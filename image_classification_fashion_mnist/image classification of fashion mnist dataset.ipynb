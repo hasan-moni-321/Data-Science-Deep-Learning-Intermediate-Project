{
 "cells": [
  {
   "cell_type": "code",
   "execution_count": 0,
   "metadata": {
    "colab": {},
    "colab_type": "code",
    "id": "C4HZx7Gndbrh"
   },
   "outputs": [],
   "source": [
    "import numpy as np\n",
    "import pandas as pd\n",
    "import seaborn as sns\n",
    "import matplotlib.pyplot as plt\n",
    "%matplotlib inline \n",
    "\n",
    "import keras\n",
    "from keras.datasets import fashion_mnist\n",
    "from keras.utils import to_categorical\n",
    "from sklearn.model_selection import train_test_split\n",
    "from sklearn.metrics import confusion_matrix, classification_report\n",
    "\n",
    "from keras.layers import Activation, Dense\n",
    "\n",
    "from keras.models import Sequential, Input, Model\n",
    "from keras.layers import Dense, Dropout, Flatten\n",
    "from keras.layers import Conv2D, MaxPooling2D\n",
    "from keras.layers.normalization import BatchNormalization\n",
    "from keras.layers.advanced_activations import LeakyReLU\n"
   ]
  },
  {
   "cell_type": "markdown",
   "metadata": {
    "colab_type": "text",
    "id": "yrTOgcR5CKYR"
   },
   "source": [
    "# Dataset Loading and Dividing for train and test"
   ]
  },
  {
   "cell_type": "code",
   "execution_count": 0,
   "metadata": {
    "colab": {},
    "colab_type": "code",
    "id": "h08PXzNmCDLg"
   },
   "outputs": [],
   "source": [
    "(x_train, y_train), (x_test, y_test)=fashion_mnist.load_data()"
   ]
  },
  {
   "cell_type": "markdown",
   "metadata": {
    "colab_type": "text",
    "id": "KIRe-dHrCffR"
   },
   "source": [
    "## Shape of the Dataset"
   ]
  },
  {
   "cell_type": "code",
   "execution_count": 111,
   "metadata": {
    "colab": {
     "base_uri": "https://localhost:8080/",
     "height": 85
    },
    "colab_type": "code",
    "id": "EORdsH3RCDXI",
    "outputId": "43f8c9d4-6207-4c68-9e3c-be2ab6f7475e"
   },
   "outputs": [
    {
     "name": "stdout",
     "output_type": "stream",
     "text": [
      "Shape of x_train data : (60000, 28, 28)\n",
      "Shape of x_test data : (10000, 28, 28)\n",
      "Shape of y_train data : (60000,)\n",
      "Shape of y_test data : (10000,)\n"
     ]
    }
   ],
   "source": [
    "print('Shape of x_train data :', x_train.shape)\n",
    "print('Shape of x_test data :',x_test.shape)\n",
    "print('Shape of y_train data :', y_train.shape)\n",
    "print('Shape of y_test data :', y_test.shape)"
   ]
  },
  {
   "cell_type": "markdown",
   "metadata": {
    "colab_type": "text",
    "id": "dnFZSqu_EKaT"
   },
   "source": [
    "## Unique Classes"
   ]
  },
  {
   "cell_type": "code",
   "execution_count": 112,
   "metadata": {
    "colab": {
     "base_uri": "https://localhost:8080/",
     "height": 51
    },
    "colab_type": "code",
    "id": "cuyOOB9-CDZx",
    "outputId": "0731e213-1c3e-4a69-c6f2-35a7904aeb42"
   },
   "outputs": [
    {
     "name": "stdout",
     "output_type": "stream",
     "text": [
      "Total number of classes : 10\n",
      "Classes number : [0 1 2 3 4 5 6 7 8 9]\n"
     ]
    }
   ],
   "source": [
    "#printing the total classes of the model\n",
    "classes = np.unique(y_train)\n",
    "n_classes = len(classes)\n",
    "\n",
    "#printing the classes and the total number of classes\n",
    "print('Total number of classes :', nclasses)\n",
    "print('Classes number :', classes)"
   ]
  },
  {
   "cell_type": "markdown",
   "metadata": {
    "colab_type": "text",
    "id": "kuHFhr24EVA_"
   },
   "source": [
    "## Visualize two images"
   ]
  },
  {
   "cell_type": "code",
   "execution_count": 113,
   "metadata": {
    "colab": {
     "base_uri": "https://localhost:8080/",
     "height": 208
    },
    "colab_type": "code",
    "id": "zeanh-fZCDcQ",
    "outputId": "75c4f3f5-0bfd-4548-a6ca-c778be522d33"
   },
   "outputs": [
    {
     "data": {
      "text/plain": [
       "Text(0.5, 1.0, 'Original truth : 9')"
      ]
     },
     "execution_count": 113,
     "metadata": {
      "tags": []
     },
     "output_type": "execute_result"
    },
    {
     "data": {
      "image/png": "[encoded data removed]",
      "text/plain": [
       "<Figure size 360x360 with 2 Axes>"
      ]
     },
     "metadata": {
      "needs_background": "light",
      "tags": []
     },
     "output_type": "display_data"
    }
   ],
   "source": [
    "#plotting the first image from training data\n",
    "plt.figure(figsize=(5,5))\n",
    "plt.subplot(121)\n",
    "plt.imshow(x_train[0,:,:], cmap='gray')\n",
    "plt.title('Original truth : {}'.format(y_train[0]))\n",
    "\n",
    "#plotting the first image from testing data\n",
    "plt.subplot(122)\n",
    "plt.imshow(x_test[0,:,:], cmap='gray')\n",
    "plt.title('Original truth : {}'.format(y_test[0]))"
   ]
  },
  {
   "cell_type": "markdown",
   "metadata": {
    "colab_type": "text",
    "id": "7cehvZ2FFFAv"
   },
   "source": [
    "##Reshaping the data before training"
   ]
  },
  {
   "cell_type": "code",
   "execution_count": 114,
   "metadata": {
    "colab": {
     "base_uri": "https://localhost:8080/",
     "height": 51
    },
    "colab_type": "code",
    "id": "uHelBo4UCDg_",
    "outputId": "58a8e3ed-c1a2-44bd-b8d6-5759c0b84b6e"
   },
   "outputs": [
    {
     "name": "stdout",
     "output_type": "stream",
     "text": [
      "Shape of train_X : (60000, 28, 28, 1)\n",
      "Shape of test_X : (10000, 28, 28, 1)\n"
     ]
    }
   ],
   "source": [
    "x_train = x_train.reshape(-1,28,28,1)\n",
    "x_test = x_test.reshape(-1,28,28,1)\n",
    "\n",
    "print('Shape of train_X :',x_train.shape)\n",
    "print('Shape of test_X :',x_test.shape)"
   ]
  },
  {
   "cell_type": "markdown",
   "metadata": {
    "colab_type": "text",
    "id": "7CGLrar1FYXs"
   },
   "source": [
    "# converting data type to float32"
   ]
  },
  {
   "cell_type": "code",
   "execution_count": 0,
   "metadata": {
    "colab": {},
    "colab_type": "code",
    "id": "w9duX0jrCDkG"
   },
   "outputs": [],
   "source": [
    "x_train = x_train.astype('float32')\n",
    "x_test = x_test.astype('float32')"
   ]
  },
  {
   "cell_type": "markdown",
   "metadata": {
    "colab_type": "text",
    "id": "mRRXAXygFxwL"
   },
   "source": [
    "## rescaling the pixel values in range 0-1"
   ]
  },
  {
   "cell_type": "code",
   "execution_count": 116,
   "metadata": {
    "colab": {
     "base_uri": "https://localhost:8080/",
     "height": 51
    },
    "colab_type": "code",
    "id": "fD_GmUezCDmn",
    "outputId": "058823eb-3fc9-446d-8df5-0545dad26094"
   },
   "outputs": [
    {
     "name": "stdout",
     "output_type": "stream",
     "text": [
      "(60000, 28, 28, 1)\n",
      "(10000, 28, 28, 1)\n"
     ]
    }
   ],
   "source": [
    "x_train = x_train / 255\n",
    "x_test = x_test / 255\n",
    "\n",
    "print(x_train.shape)\n",
    "print(x_test.shape)"
   ]
  },
  {
   "cell_type": "markdown",
   "metadata": {
    "colab_type": "text",
    "id": "cb_X2AXHGqT5"
   },
   "source": [
    "## categorical to one-hot encoding"
   ]
  },
  {
   "cell_type": "code",
   "execution_count": 117,
   "metadata": {
    "colab": {
     "base_uri": "https://localhost:8080/",
     "height": 85
    },
    "colab_type": "code",
    "id": "4frLAg_pCDuP",
    "outputId": "3c28c15d-224d-48f7-d45c-3cdb373a3dd6"
   },
   "outputs": [
    {
     "name": "stdout",
     "output_type": "stream",
     "text": [
      "Original label : 9\n",
      "After conversion to one hot : [0. 0. 0. 0. 0. 0. 0. 0. 0. 1.]\n",
      "(60000, 10)\n",
      "(10000, 10)\n"
     ]
    }
   ],
   "source": [
    "#Changing the labels from categorical to one-hot encoding\n",
    "train_y_one_hot = to_categorical(y_train)\n",
    "test_y_one_hot = to_categorical(y_test)\n",
    "\n",
    "#Displaying the change for category label using one-hot encoding\n",
    "print('Original label :', y_train[0])\n",
    "print('After conversion to one hot :', train_y_one_hot[0])\n",
    "\n",
    "#Displaying the shape of the \n",
    "print(train_y_one_hot.shape)\n",
    "print(test_y_one_hot.shape)"
   ]
  },
  {
   "cell_type": "markdown",
   "metadata": {
    "colab_type": "text",
    "id": "XpF8F2zpG1kf"
   },
   "source": [
    "## spliting training data into train and validation data"
   ]
  },
  {
   "cell_type": "code",
   "execution_count": 118,
   "metadata": {
    "colab": {
     "base_uri": "https://localhost:8080/",
     "height": 85
    },
    "colab_type": "code",
    "id": "Zw1J7gG1CDwf",
    "outputId": "33d6ca88-bd12-4fb6-a88e-6f443512abb1"
   },
   "outputs": [
    {
     "name": "stdout",
     "output_type": "stream",
     "text": [
      "(48000, 28, 28, 1) \n",
      " (12000, 28, 28, 1) \n",
      " (48000, 10) \n",
      " (12000, 10)\n"
     ]
    }
   ],
   "source": [
    "train_X, valid_X, train_valid, valid_Y = train_test_split(x_train, train_y_one_hot, test_size=0.2, random_state=13)\n",
    "print(train_X.shape, '\\n',valid_X.shape,'\\n',train_valid.shape,'\\n',valid_Y.shape)"
   ]
  },
  {
   "cell_type": "markdown",
   "metadata": {
    "colab_type": "text",
    "id": "b8ddVFo_HvV2"
   },
   "source": [
    "## Model"
   ]
  },
  {
   "cell_type": "code",
   "execution_count": 0,
   "metadata": {
    "colab": {},
    "colab_type": "code",
    "id": "6Mb2HChRCDzF"
   },
   "outputs": [],
   "source": [
    "#Network architecture\n",
    "#adding 1st convolutional layer Conv2D(). Because working with images\n",
    "#adding LeakyReLU() activation function. Because it helps the network to learn \n",
    "#non-linear decision boundaries. Since I have 10 different classes, I shall need a \n",
    "#nonlinear decision boundary. \n",
    "model = Sequential()\n",
    "model.add(Conv2D(32, kernel_size=(3,3), activation='linear', input_shape=(28,28,1), padding='same'))\n",
    "model.add(LeakyReLU(alpha=0.1))\n",
    "model.add(MaxPooling2D((2,2), padding='same'))\n",
    "model.add(Dropout(0.25))\n",
    "\n",
    "model.add(Conv2D(64,(3,3), activation='linear', padding='same'))\n",
    "model.add(LeakyReLU(alpha=0.1))\n",
    "model.add(MaxPooling2D(pool_size=(2,2), padding='same'))\n",
    "model.add(Dropout(0.25))\n",
    "\n",
    "model.add(Conv2D(128, (3,3), activation='linear', padding='same'))\n",
    "model.add(LeakyReLU(alpha=0.1))\n",
    "model.add(MaxPooling2D(pool_size=(2,2), padding='same'))\n",
    "model.add(Dropout(0.4))\n",
    "model.add(Flatten())\n",
    "\n",
    "model.add(Dense(128, activation='linear'))\n",
    "model.add(LeakyReLU(alpha=0.1))\n",
    "model.add(Dropout(0.3))\n",
    "model.add(Dense(n_classes, activation='softmax'))"
   ]
  },
  {
   "cell_type": "code",
   "execution_count": 120,
   "metadata": {
    "colab": {
     "base_uri": "https://localhost:8080/",
     "height": 731
    },
    "colab_type": "code",
    "id": "7tUl4bHTCD1j",
    "outputId": "16e51bc1-6f92-44b7-b325-e0967386f8c3"
   },
   "outputs": [
    {
     "name": "stdout",
     "output_type": "stream",
     "text": [
      "Model: \"sequential_6\"\n",
      "_________________________________________________________________\n",
      "Layer (type)                 Output Shape              Param #   \n",
      "=================================================================\n",
      "conv2d_16 (Conv2D)           (None, 28, 28, 32)        320       \n",
      "_________________________________________________________________\n",
      "leaky_re_lu_21 (LeakyReLU)   (None, 28, 28, 32)        0         \n",
      "_________________________________________________________________\n",
      "max_pooling2d_16 (MaxPooling (None, 14, 14, 32)        0         \n",
      "_________________________________________________________________\n",
      "dropout_21 (Dropout)         (None, 14, 14, 32)        0         \n",
      "_________________________________________________________________\n",
      "conv2d_17 (Conv2D)           (None, 14, 14, 64)        18496     \n",
      "_________________________________________________________________\n",
      "leaky_re_lu_22 (LeakyReLU)   (None, 14, 14, 64)        0         \n",
      "_________________________________________________________________\n",
      "max_pooling2d_17 (MaxPooling (None, 7, 7, 64)          0         \n",
      "_________________________________________________________________\n",
      "dropout_22 (Dropout)         (None, 7, 7, 64)          0         \n",
      "_________________________________________________________________\n",
      "conv2d_18 (Conv2D)           (None, 7, 7, 128)         73856     \n",
      "_________________________________________________________________\n",
      "leaky_re_lu_23 (LeakyReLU)   (None, 7, 7, 128)         0         \n",
      "_________________________________________________________________\n",
      "max_pooling2d_18 (MaxPooling (None, 4, 4, 128)         0         \n",
      "_________________________________________________________________\n",
      "dropout_23 (Dropout)         (None, 4, 4, 128)         0         \n",
      "_________________________________________________________________\n",
      "flatten_6 (Flatten)          (None, 2048)              0         \n",
      "_________________________________________________________________\n",
      "dense_8 (Dense)              (None, 128)               262272    \n",
      "_________________________________________________________________\n",
      "leaky_re_lu_24 (LeakyReLU)   (None, 128)               0         \n",
      "_________________________________________________________________\n",
      "dropout_24 (Dropout)         (None, 128)               0         \n",
      "_________________________________________________________________\n",
      "dense_9 (Dense)              (None, 10)                1290      \n",
      "=================================================================\n",
      "Total params: 356,234\n",
      "Trainable params: 356,234\n",
      "Non-trainable params: 0\n",
      "_________________________________________________________________\n"
     ]
    }
   ],
   "source": [
    "#summary of the model\n",
    "model.summary()"
   ]
  },
  {
   "cell_type": "markdown",
   "metadata": {
    "colab_type": "text",
    "id": "ZW-j5t-FIa4c"
   },
   "source": [
    "## Compiling The Model"
   ]
  },
  {
   "cell_type": "code",
   "execution_count": 0,
   "metadata": {
    "colab": {},
    "colab_type": "code",
    "id": "1XsJiGN7CD38"
   },
   "outputs": [],
   "source": [
    "model.compile(loss=keras.losses.categorical_crossentropy, \n",
    "                      optimizer=keras.optimizers.Adam(),\n",
    "                      metrics=['accuracy'])"
   ]
  },
  {
   "cell_type": "markdown",
   "metadata": {
    "colab_type": "text",
    "id": "KBRXwbipImX3"
   },
   "source": [
    "## Training The Model"
   ]
  },
  {
   "cell_type": "code",
   "execution_count": 122,
   "metadata": {
    "colab": {
     "base_uri": "https://localhost:8080/",
     "height": 734
    },
    "colab_type": "code",
    "id": "tZR_nT6TCD6Y",
    "outputId": "315d7095-7430-4a38-c7de-30cbe8fac226"
   },
   "outputs": [
    {
     "name": "stdout",
     "output_type": "stream",
     "text": [
      "Train on 48000 samples, validate on 12000 samples\n",
      "Epoch 1/20\n",
      "48000/48000 [==============================] - 6s 131us/step - loss: 0.5994 - accuracy: 0.7784 - val_loss: 0.3789 - val_accuracy: 0.8659\n",
      "Epoch 2/20\n",
      "48000/48000 [==============================] - 6s 127us/step - loss: 0.3777 - accuracy: 0.8627 - val_loss: 0.3176 - val_accuracy: 0.8855\n",
      "Epoch 3/20\n",
      "48000/48000 [==============================] - 6s 124us/step - loss: 0.3317 - accuracy: 0.8781 - val_loss: 0.2730 - val_accuracy: 0.8958\n",
      "Epoch 4/20\n",
      "48000/48000 [==============================] - 6s 126us/step - loss: 0.2971 - accuracy: 0.8896 - val_loss: 0.2602 - val_accuracy: 0.9038\n",
      "Epoch 5/20\n",
      "48000/48000 [==============================] - 6s 127us/step - loss: 0.2788 - accuracy: 0.8954 - val_loss: 0.2446 - val_accuracy: 0.9085\n",
      "Epoch 6/20\n",
      "48000/48000 [==============================] - 6s 125us/step - loss: 0.2684 - accuracy: 0.9019 - val_loss: 0.2408 - val_accuracy: 0.9106\n",
      "Epoch 7/20\n",
      "48000/48000 [==============================] - 6s 127us/step - loss: 0.2578 - accuracy: 0.9034 - val_loss: 0.2316 - val_accuracy: 0.9146\n",
      "Epoch 8/20\n",
      "48000/48000 [==============================] - 6s 127us/step - loss: 0.2493 - accuracy: 0.9070 - val_loss: 0.2448 - val_accuracy: 0.9100\n",
      "Epoch 9/20\n",
      "48000/48000 [==============================] - 6s 125us/step - loss: 0.2398 - accuracy: 0.9103 - val_loss: 0.2475 - val_accuracy: 0.9078\n",
      "Epoch 10/20\n",
      "48000/48000 [==============================] - 6s 126us/step - loss: 0.2350 - accuracy: 0.9120 - val_loss: 0.2239 - val_accuracy: 0.9187\n",
      "Epoch 11/20\n",
      "48000/48000 [==============================] - 6s 127us/step - loss: 0.2298 - accuracy: 0.9139 - val_loss: 0.2173 - val_accuracy: 0.9211\n",
      "Epoch 12/20\n",
      "48000/48000 [==============================] - 6s 125us/step - loss: 0.2220 - accuracy: 0.9155 - val_loss: 0.2229 - val_accuracy: 0.9184\n",
      "Epoch 13/20\n",
      "48000/48000 [==============================] - 6s 126us/step - loss: 0.2189 - accuracy: 0.9172 - val_loss: 0.2180 - val_accuracy: 0.9241\n",
      "Epoch 14/20\n",
      "48000/48000 [==============================] - 6s 127us/step - loss: 0.2157 - accuracy: 0.9181 - val_loss: 0.2142 - val_accuracy: 0.9210\n",
      "Epoch 15/20\n",
      "48000/48000 [==============================] - 6s 125us/step - loss: 0.2119 - accuracy: 0.9205 - val_loss: 0.2117 - val_accuracy: 0.9231\n",
      "Epoch 16/20\n",
      "48000/48000 [==============================] - 6s 128us/step - loss: 0.2091 - accuracy: 0.9221 - val_loss: 0.2109 - val_accuracy: 0.9234\n",
      "Epoch 17/20\n",
      "48000/48000 [==============================] - 6s 126us/step - loss: 0.2056 - accuracy: 0.9218 - val_loss: 0.2058 - val_accuracy: 0.9262\n",
      "Epoch 18/20\n",
      "48000/48000 [==============================] - 6s 123us/step - loss: 0.1981 - accuracy: 0.9255 - val_loss: 0.2103 - val_accuracy: 0.9254\n",
      "Epoch 19/20\n",
      "48000/48000 [==============================] - 6s 126us/step - loss: 0.1963 - accuracy: 0.9261 - val_loss: 0.2123 - val_accuracy: 0.9257\n",
      "Epoch 20/20\n",
      "48000/48000 [==============================] - 6s 126us/step - loss: 0.1982 - accuracy: 0.9239 - val_loss: 0.2090 - val_accuracy: 0.9236\n"
     ]
    }
   ],
   "source": [
    "model_history = model.fit(train_X, train_valid, batch_size=64, \n",
    "                                          epochs=20, verbose=1, validation_data=(valid_X, valid_Y))"
   ]
  },
  {
   "cell_type": "markdown",
   "metadata": {
    "colab_type": "text",
    "id": "q8f8KXSNI-uW"
   },
   "source": [
    "## Evaluating with Test data"
   ]
  },
  {
   "cell_type": "code",
   "execution_count": 123,
   "metadata": {
    "colab": {
     "base_uri": "https://localhost:8080/",
     "height": 68
    },
    "colab_type": "code",
    "id": "pD1y_mtNCD8h",
    "outputId": "b254af57-0352-4e83-b740-71840c545bdf"
   },
   "outputs": [
    {
     "name": "stdout",
     "output_type": "stream",
     "text": [
      "10000/10000 [==============================] - 1s 82us/step\n",
      "Test loss : 0.2194664430677891\n",
      "Test accuracy : 0.9212999939918518\n"
     ]
    }
   ],
   "source": [
    "test_eval = model.evaluate(x_test, test_y_one_hot, verbose=1)\n",
    "\n",
    "print('Test loss :',test_eval[0])\n",
    "print('Test accuracy :',test_eval[1])"
   ]
  },
  {
   "cell_type": "markdown",
   "metadata": {
    "colab_type": "text",
    "id": "CJEjs1C-JZEA"
   },
   "source": [
    "## Accuracy and Loss graph"
   ]
  },
  {
   "cell_type": "code",
   "execution_count": 124,
   "metadata": {
    "colab": {
     "base_uri": "https://localhost:8080/",
     "height": 545
    },
    "colab_type": "code",
    "id": "cdoicjdMCD_R",
    "outputId": "ad9a05d9-84a3-42f4-e02a-7b72113cc0c8"
   },
   "outputs": [
    {
     "data": {
      "image/png": "[encoded data removed]",
      "text/plain": [
       "<Figure size 432x288 with 1 Axes>"
      ]
     },
     "metadata": {
      "needs_background": "light",
      "tags": []
     },
     "output_type": "display_data"
    },
    {
     "data": {
      "image/png": "[encoded data removed]",
      "text/plain": [
       "<Figure size 432x288 with 1 Axes>"
      ]
     },
     "metadata": {
      "needs_background": "light",
      "tags": []
     },
     "output_type": "display_data"
    }
   ],
   "source": [
    "accuracy = model_history.history['accuracy']\n",
    "val_accuracy = model_history.history['val_accuracy']\n",
    "\n",
    "loss = model_history.history['loss']\n",
    "val_loss = model_history.history['val_loss']\n",
    "\n",
    "epochs = range(len(accuracy))\n",
    "plt.plot(epochs, accuracy, 'go', label='Training accuracy')\n",
    "plt.plot(epochs, val_accuracy, 'g', label='Validation accuracy')\n",
    "plt.title('Training and validation accuracy')\n",
    "plt.legend()\n",
    "plt.figure()\n",
    "plt.plot(epochs, loss, 'go', label='Training loss')\n",
    "plt.plot(epochs, val_loss, 'g', label='validation loss')\n",
    "plt.title('training and validation loss')\n",
    "plt.legend()\n",
    "plt.show()"
   ]
  },
  {
   "cell_type": "markdown",
   "metadata": {
    "colab_type": "text",
    "id": "dnR8FHFUSct1"
   },
   "source": [
    "from graph we are seeing our model is very good because training accuracy, validation accuracy and\n",
    "training loss and validation loss curve goes through one direction"
   ]
  },
  {
   "cell_type": "markdown",
   "metadata": {
    "colab_type": "text",
    "id": "5RoOpgzmJjYk"
   },
   "source": [
    "## Predicting with test data"
   ]
  },
  {
   "cell_type": "code",
   "execution_count": 125,
   "metadata": {
    "colab": {
     "base_uri": "https://localhost:8080/",
     "height": 51
    },
    "colab_type": "code",
    "id": "0_5AnRKiCEBe",
    "outputId": "dd973909-0271-4fed-f7b5-49340eb5afeb"
   },
   "outputs": [
    {
     "name": "stdout",
     "output_type": "stream",
     "text": [
      "(10000,)\n",
      "(10000,)\n"
     ]
    }
   ],
   "source": [
    "predicted_classes = model.predict(x_test)\n",
    "\n",
    "#converting float value to integer value\n",
    "predicted_classes = np.argmax(np.round(predicted_classes), axis=1)\n",
    "print(predicted_classes.shape)\n",
    "print(y_test.shape)"
   ]
  },
  {
   "cell_type": "markdown",
   "metadata": {
    "colab_type": "text",
    "id": "I0iUITA_KcS0"
   },
   "source": [
    "## classification Report"
   ]
  },
  {
   "cell_type": "code",
   "execution_count": 126,
   "metadata": {
    "colab": {
     "base_uri": "https://localhost:8080/",
     "height": 306
    },
    "colab_type": "code",
    "id": "7Cg3qIuTKaWQ",
    "outputId": "6f836383-2d39-4edd-9340-97346457500f"
   },
   "outputs": [
    {
     "name": "stdout",
     "output_type": "stream",
     "text": [
      "              precision    recall  f1-score   support\n",
      "\n",
      "           0       0.80      0.88      0.84      1000\n",
      "           1       0.99      0.99      0.99      1000\n",
      "           2       0.90      0.86      0.88      1000\n",
      "           3       0.93      0.92      0.93      1000\n",
      "           4       0.89      0.88      0.88      1000\n",
      "           5       0.99      0.97      0.98      1000\n",
      "           6       0.78      0.76      0.77      1000\n",
      "           7       0.96      0.98      0.97      1000\n",
      "           8       0.99      0.99      0.99      1000\n",
      "           9       0.98      0.97      0.97      1000\n",
      "\n",
      "    accuracy                           0.92     10000\n",
      "   macro avg       0.92      0.92      0.92     10000\n",
      "weighted avg       0.92      0.92      0.92     10000\n",
      "\n"
     ]
    }
   ],
   "source": [
    "print(classification_report(y_test,predicted_classes))"
   ]
  },
  {
   "cell_type": "markdown",
   "metadata": {
    "colab_type": "text",
    "id": "khlx-Y4qJx2C"
   },
   "source": [
    "## Confusion Matrix"
   ]
  },
  {
   "cell_type": "code",
   "execution_count": 127,
   "metadata": {
    "colab": {
     "base_uri": "https://localhost:8080/",
     "height": 296
    },
    "colab_type": "code",
    "id": "24CVXU0kCEEQ",
    "outputId": "8f84b42d-d236-45bf-dbd9-d881bcb61608"
   },
   "outputs": [
    {
     "data": {
      "text/plain": [
       "Text(91.68, 0.5, 'predicted label')"
      ]
     },
     "execution_count": 127,
     "metadata": {
      "tags": []
     },
     "output_type": "execute_result"
    },
    {
     "data": {
      "image/png": "[encoded data removed]",
      "text/plain": [
       "<Figure size 432x288 with 1 Axes>"
      ]
     },
     "metadata": {
      "needs_background": "light",
      "tags": []
     },
     "output_type": "display_data"
    }
   ],
   "source": [
    "mat = confusion_matrix(y_test, predicted_classes)\n",
    "sns.heatmap(mat.T, square=True, annot=True, fmt='d', cbar=False)\n",
    "plt.xlabel('true label')\n",
    "plt.ylabel('predicted label')"
   ]
  },
  {
   "cell_type": "markdown",
   "metadata": {
    "colab_type": "text",
    "id": "jKPbqF6PNuT8"
   },
   "source": [
    "most of the miss prediction is happend in 0,2,4 and 6"
   ]
  },
  {
   "cell_type": "markdown",
   "metadata": {
    "colab_type": "text",
    "id": "ocniIYqEJ7Oa"
   },
   "source": [
    "## Some correct data"
   ]
  },
  {
   "cell_type": "code",
   "execution_count": 128,
   "metadata": {
    "colab": {
     "base_uri": "https://localhost:8080/",
     "height": 314
    },
    "colab_type": "code",
    "id": "LhNTMXtVCEGv",
    "outputId": "414adf9f-aef4-4785-884d-b6e0e0187213"
   },
   "outputs": [
    {
     "name": "stdout",
     "output_type": "stream",
     "text": [
      "Found 9199 correct labels \n"
     ]
    },
    {
     "data": {
      "image/png": "[encoded data removed]",
      "text/plain": [
       "<Figure size 432x288 with 6 Axes>"
      ]
     },
     "metadata": {
      "needs_background": "light",
      "tags": []
     },
     "output_type": "display_data"
    }
   ],
   "source": [
    "#printing the total correct data\n",
    "correct_data = np.where(predicted_classes==y_test)[0]\n",
    "print('Found %d correct labels '%len(correct_data))\n",
    "\n",
    "#printing some correct data\n",
    "for i, correct in enumerate(correct_data[:6]):\n",
    "    plt.subplot(2,3,i+1)\n",
    "    plt.imshow(x_test[correct].reshape(28,28), cmap='binary', interpolation='none')\n",
    "    plt.title('predicted {}, class{}'.format(predicted_classes[correct], y_test[correct]))\n",
    "    plt.tight_layout()"
   ]
  },
  {
   "cell_type": "markdown",
   "metadata": {
    "colab_type": "text",
    "id": "K0yrkJ6KKL4B"
   },
   "source": [
    "## Some incorrect data"
   ]
  },
  {
   "cell_type": "code",
   "execution_count": 129,
   "metadata": {
    "colab": {
     "base_uri": "https://localhost:8080/",
     "height": 314
    },
    "colab_type": "code",
    "id": "doKvi-4lCEJI",
    "outputId": "4eba4a57-6da1-4cfb-fe80-2086010876f4"
   },
   "outputs": [
    {
     "name": "stdout",
     "output_type": "stream",
     "text": [
      "Found 801 incorrect data\n"
     ]
    },
    {
     "data": {
      "image/png": "[encoded data removed]",
      "text/plain": [
       "<Figure size 432x288 with 6 Axes>"
      ]
     },
     "metadata": {
      "needs_background": "light",
      "tags": []
     },
     "output_type": "display_data"
    }
   ],
   "source": [
    "#printing the total incorrect data\n",
    "incorrect_data = np.where(predicted_classes!=y_test)[0]\n",
    "print('Found %d incorrect data'%len(incorrect_data))\n",
    "\n",
    "#printing some incorrect data\n",
    "for i, incorrect in enumerate(incorrect_data[:6]):\n",
    "    plt.subplot(2,3,i+1)\n",
    "    plt.imshow(x_test[incorrect].reshape(28,28), cmap='gray', interpolation='none')\n",
    "    plt.title('predicted {}, class{}'.format(predicted_classes[incorrect], y_test[incorrect]))\n",
    "    plt.tight_layout()"
   ]
  },
  {
   "cell_type": "code",
   "execution_count": 0,
   "metadata": {
    "colab": {},
    "colab_type": "code",
    "id": "p7S6qJXwCEkG"
   },
   "outputs": [],
   "source": []
  },
  {
   "cell_type": "code",
   "execution_count": 0,
   "metadata": {
    "colab": {},
    "colab_type": "code",
    "id": "gPzWV5pRCEmj"
   },
   "outputs": [],
   "source": []
  }
 ],
 "metadata": {
  "accelerator": "GPU",
  "colab": {
   "collapsed_sections": [],
   "name": "Welcome To Colaboratory",
   "provenance": [],
   "toc_visible": true
  },
  "kernelspec": {
   "display_name": "Python 3",
   "language": "python",
   "name": "python3"
  },
  "language_info": {
   "codemirror_mode": {
    "name": "ipython",
    "version": 3
   },
   "file_extension": ".py",
   "mimetype": "text/x-python",
   "name": "python",
   "nbconvert_exporter": "python",
   "pygments_lexer": "ipython3",
   "version": "3.7.5"
  }
 },
 "nbformat": 4,
 "nbformat_minor": 1
}
