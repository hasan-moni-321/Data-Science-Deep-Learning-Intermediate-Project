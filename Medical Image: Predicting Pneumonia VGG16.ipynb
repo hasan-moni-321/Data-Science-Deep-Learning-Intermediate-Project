{
 "cells": [
  {
   "cell_type": "code",
   "execution_count": 0,
   "metadata": {
    "colab": {},
    "colab_type": "code",
    "id": "0aMX9o_JGdU-"
   },
   "outputs": [],
   "source": [
    "#loading necessary library\n",
    "import numpy as np\n",
    "import pandas as pd\n",
    "import seaborn as sns\n",
    "import matplotlib.pyplot as plt\n",
    "%matplotlib inline\n",
    "\n",
    "from sklearn.metrics import classification_report, confusion_matrix\n",
    "from keras.applications.vgg16 import VGG16\n",
    "from keras.models import Model\n",
    "from keras.preprocessing import image\n",
    "from keras.preprocessing.image import ImageDataGenerator\n",
    "from glob import glob\n",
    "from keras.optimizers import Adam\n",
    "from keras.layers import Dense, Dropout, Flatten, MaxPooling2D, Input, BatchNormalization"
   ]
  },
  {
   "cell_type": "code",
   "execution_count": 0,
   "metadata": {
    "colab": {},
    "colab_type": "code",
    "id": "wR7xJQlhGl7M"
   },
   "outputs": [],
   "source": [
    "#loading data\n",
    "train = '/content/chest_xray/train'\n",
    "test = '/content/chest_xray/test'\n",
    "val = '/content/chest_xray/val'"
   ]
  },
  {
   "cell_type": "markdown",
   "metadata": {
    "colab_type": "text",
    "id": "OGa1b0suQNpU"
   },
   "source": [
    "## Model"
   ]
  },
  {
   "cell_type": "code",
   "execution_count": 0,
   "metadata": {
    "colab": {},
    "colab_type": "code",
    "id": "QnA8dbIWGmDl"
   },
   "outputs": [],
   "source": [
    "#vgg1 application \n",
    "base_model = VGG16(input_shape = (224,224,3), weights='imagenet', include_top=False)\n",
    "\n",
    "#adding layer to neural net\n",
    "x = BatchNormalization(axis=-1, momentum=0.99, epsilon=0.001, center=True, scale=True, beta_initializer='zeros', gamma_initializer='ones', moving_mean_initializer='zeros', moving_variance_initializer='ones', beta_regularizer=None, gamma_regularizer=None, beta_constraint=None, gamma_constraint=None)\n",
    "x = Flatten()(base_model.output)\n",
    "prediction = Dense(2, activation='softmax')(x)\n",
    "\n",
    "#model\n",
    "model = Model(inputs=base_model.input, outputs=prediction)\n",
    "\n",
    "\n",
    "#freeze all convolutional vgg16 layer\n",
    "for layer in base_model.layers:\n",
    "    layer.trainable = False\n"
   ]
  },
  {
   "cell_type": "code",
   "execution_count": 34,
   "metadata": {
    "colab": {
     "base_uri": "https://localhost:8080/",
     "height": 867
    },
    "colab_type": "code",
    "id": "wbkB14vR4cCB",
    "outputId": "0676ebea-be3b-46c7-d3cf-af27bf6f7845"
   },
   "outputs": [
    {
     "name": "stdout",
     "output_type": "stream",
     "text": [
      "Model: \"model_4\"\n",
      "_________________________________________________________________\n",
      "Layer (type)                 Output Shape              Param #   \n",
      "=================================================================\n",
      "input_5 (InputLayer)         (None, 224, 224, 3)       0         \n",
      "_________________________________________________________________\n",
      "block1_conv1 (Conv2D)        (None, 224, 224, 64)      1792      \n",
      "_________________________________________________________________\n",
      "block1_conv2 (Conv2D)        (None, 224, 224, 64)      36928     \n",
      "_________________________________________________________________\n",
      "block1_pool (MaxPooling2D)   (None, 112, 112, 64)      0         \n",
      "_________________________________________________________________\n",
      "block2_conv1 (Conv2D)        (None, 112, 112, 128)     73856     \n",
      "_________________________________________________________________\n",
      "block2_conv2 (Conv2D)        (None, 112, 112, 128)     147584    \n",
      "_________________________________________________________________\n",
      "block2_pool (MaxPooling2D)   (None, 56, 56, 128)       0         \n",
      "_________________________________________________________________\n",
      "block3_conv1 (Conv2D)        (None, 56, 56, 256)       295168    \n",
      "_________________________________________________________________\n",
      "block3_conv2 (Conv2D)        (None, 56, 56, 256)       590080    \n",
      "_________________________________________________________________\n",
      "block3_conv3 (Conv2D)        (None, 56, 56, 256)       590080    \n",
      "_________________________________________________________________\n",
      "block3_pool (MaxPooling2D)   (None, 28, 28, 256)       0         \n",
      "_________________________________________________________________\n",
      "block4_conv1 (Conv2D)        (None, 28, 28, 512)       1180160   \n",
      "_________________________________________________________________\n",
      "block4_conv2 (Conv2D)        (None, 28, 28, 512)       2359808   \n",
      "_________________________________________________________________\n",
      "block4_conv3 (Conv2D)        (None, 28, 28, 512)       2359808   \n",
      "_________________________________________________________________\n",
      "block4_pool (MaxPooling2D)   (None, 14, 14, 512)       0         \n",
      "_________________________________________________________________\n",
      "block5_conv1 (Conv2D)        (None, 14, 14, 512)       2359808   \n",
      "_________________________________________________________________\n",
      "block5_conv2 (Conv2D)        (None, 14, 14, 512)       2359808   \n",
      "_________________________________________________________________\n",
      "block5_conv3 (Conv2D)        (None, 14, 14, 512)       2359808   \n",
      "_________________________________________________________________\n",
      "block5_pool (MaxPooling2D)   (None, 7, 7, 512)         0         \n",
      "_________________________________________________________________\n",
      "flatten_4 (Flatten)          (None, 25088)             0         \n",
      "_________________________________________________________________\n",
      "dense_4 (Dense)              (None, 2)                 50178     \n",
      "=================================================================\n",
      "Total params: 14,764,866\n",
      "Trainable params: 50,178\n",
      "Non-trainable params: 14,714,688\n",
      "_________________________________________________________________\n"
     ]
    }
   ],
   "source": [
    "#summary of the model\n",
    "model.summary()"
   ]
  },
  {
   "cell_type": "code",
   "execution_count": 0,
   "metadata": {
    "colab": {},
    "colab_type": "code",
    "id": "LWIfGjyNGmGD"
   },
   "outputs": [],
   "source": [
    "#compile the model\n",
    "model.compile(loss='categorical_crossentropy',\n",
    "              optimizer=Adam(lr=0.001, beta_1=0.9, beta_2=0.999, epsilon=1e-08, decay=0.0),\n",
    "              metrics=['accuracy'])\n"
   ]
  },
  {
   "cell_type": "code",
   "execution_count": 0,
   "metadata": {
    "colab": {},
    "colab_type": "code",
    "id": "Vi5Ps57yGmIm"
   },
   "outputs": [],
   "source": []
  },
  {
   "cell_type": "markdown",
   "metadata": {
    "colab_type": "text",
    "id": "fWKKs76hQn9C"
   },
   "source": [
    "## ImageDataGenerator"
   ]
  },
  {
   "cell_type": "code",
   "execution_count": 0,
   "metadata": {
    "colab": {},
    "colab_type": "code",
    "id": "VbLb3UWiGmLv"
   },
   "outputs": [],
   "source": [
    "#for train data\n",
    "train_datagen = ImageDataGenerator(rescale=1./255,\n",
    "                                   shear_range=.2,\n",
    "                                   zoom_range=.2,\n",
    "                                   horizontal_flip=True)\n",
    "\n",
    "#for valid data\n",
    "valid_datagen = ImageDataGenerator(rescale=1./255)\n",
    "\n",
    "#for test data\n",
    "test_datagen = ImageDataGenerator(rescale=1./255)"
   ]
  },
  {
   "cell_type": "code",
   "execution_count": 37,
   "metadata": {
    "colab": {
     "base_uri": "https://localhost:8080/",
     "height": 68
    },
    "colab_type": "code",
    "id": "iXPHvr0-GmPN",
    "outputId": "521053df-306b-4c2b-d20e-5444285fe5d2"
   },
   "outputs": [
    {
     "name": "stdout",
     "output_type": "stream",
     "text": [
      "Found 5216 images belonging to 2 classes.\n",
      "Found 16 images belonging to 2 classes.\n",
      "Found 624 images belonging to 2 classes.\n"
     ]
    }
   ],
   "source": [
    "#for train data\n",
    "train_data_generator = train_datagen.flow_from_directory('/content/chest_xray/train',\n",
    "                                                  target_size=(224,224),\n",
    "                                                  batch_size=32,\n",
    "                                                  class_mode='categorical')\n",
    "\n",
    "#for valid data\n",
    "valid_data_generator = train_datagen.flow_from_directory('/content/chest_xray/val',\n",
    "                                                  target_size=(224,224),\n",
    "                                                  batch_size=32,\n",
    "                                                  class_mode='categorical')\n",
    "\n",
    "#for test data\n",
    "test_data_generator = test_datagen.flow_from_directory('/content/chest_xray/test',\n",
    "                                                      target_size=(224,224),\n",
    "                                                      batch_size=32,\n",
    "                                                      class_mode='categorical'\n",
    "                                                      )"
   ]
  },
  {
   "cell_type": "markdown",
   "metadata": {
    "colab_type": "text",
    "id": "qUu5JmJoJ8ze"
   },
   "source": [
    "Here have very less amount of validation data. from this data finding good validation loss and validation curve is very tough. This is a kaggle competition problem, for this I have used test data as validation data"
   ]
  },
  {
   "cell_type": "code",
   "execution_count": 0,
   "metadata": {
    "colab": {},
    "colab_type": "code",
    "id": "Ri4548G3HSCY"
   },
   "outputs": [],
   "source": []
  },
  {
   "cell_type": "markdown",
   "metadata": {
    "colab_type": "text",
    "id": "UE4tRboGyk0D"
   },
   "source": [
    "## Training "
   ]
  },
  {
   "cell_type": "code",
   "execution_count": 38,
   "metadata": {
    "colab": {
     "base_uri": "https://localhost:8080/",
     "height": 207
    },
    "colab_type": "code",
    "id": "zBwk3IaMGmXX",
    "outputId": "47497247-66ae-442b-fd94-c37799b26b4d"
   },
   "outputs": [
    {
     "name": "stdout",
     "output_type": "stream",
     "text": [
      "Epoch 1/5\n",
      "163/163 [==============================] - 134s 823ms/step - loss: 0.2128 - accuracy: 0.9132 - val_loss: 0.0645 - val_accuracy: 0.8670\n",
      "Epoch 2/5\n",
      "163/163 [==============================] - 131s 802ms/step - loss: 0.1121 - accuracy: 0.9582 - val_loss: 0.0430 - val_accuracy: 0.9119\n",
      "Epoch 3/5\n",
      "163/163 [==============================] - 130s 800ms/step - loss: 0.0894 - accuracy: 0.9647 - val_loss: 0.0367 - val_accuracy: 0.9295\n",
      "Epoch 4/5\n",
      "163/163 [==============================] - 130s 796ms/step - loss: 0.0988 - accuracy: 0.9670 - val_loss: 0.0166 - val_accuracy: 0.9006\n",
      "Epoch 5/5\n",
      "163/163 [==============================] - 131s 801ms/step - loss: 0.0998 - accuracy: 0.9609 - val_loss: 0.0020 - val_accuracy: 0.9087\n"
     ]
    }
   ],
   "source": [
    "#training the model\n",
    "model_fit = model.fit_generator(generator=train_data_generator, \n",
    "              steps_per_epoch=len(train_data_generator),\n",
    "              epochs=5,   \n",
    "              validation_data=test_data_generator, \n",
    "              validation_steps=len(test_data_generator)\n",
    "              )"
   ]
  },
  {
   "cell_type": "markdown",
   "metadata": {},
   "source": [
    "# Accuracy and Loss curve"
   ]
  },
  {
   "cell_type": "code",
   "execution_count": 40,
   "metadata": {
    "colab": {
     "base_uri": "https://localhost:8080/",
     "height": 545
    },
    "colab_type": "code",
    "id": "jPQiOH34FQ1R",
    "outputId": "f0e51144-5808-46d1-a713-52bc862aecaf"
   },
   "outputs": [
    {
     "data": {
      "image/png": "[encoded data removed]",
      "text/plain": [
       "<Figure size 432x288 with 1 Axes>"
      ]
     },
     "metadata": {
      "needs_background": "light",
      "tags": []
     },
     "output_type": "display_data"
    },
    {
     "data": {
      "image/png": "[encoded data removed]",
      "text/plain": [
       "<Figure size 432x288 with 1 Axes>"
      ]
     },
     "metadata": {
      "needs_background": "light",
      "tags": []
     },
     "output_type": "display_data"
    }
   ],
   "source": [
    "accuracy = model_fit.history['accuracy']\n",
    "val_accuracy = model_fit.history['val_accuracy']\n",
    "\n",
    "loss = model_fit.history['loss']\n",
    "val_loss = model_fit.history['val_loss']\n",
    "\n",
    "epochs = range(len(val_accuracy))\n",
    "plt.plot(epochs, accuracy, 'go', label='Training accuracy')\n",
    "plt.plot(epochs, val_accuracy, 'b', label='Validation accuracy')\n",
    "plt.title('Training and validation accuracy')\n",
    "plt.legend()\n",
    "plt.figure()\n",
    "plt.plot(epochs, loss, 'go', label='Training loss')\n",
    "plt.plot(epochs, val_loss, 'b', label='validation loss')\n",
    "plt.title('training and validation loss')\n",
    "plt.legend()\n",
    "plt.show()\n",
    "\n"
   ]
  },
  {
   "cell_type": "markdown",
   "metadata": {
    "colab_type": "text",
    "id": "Ex-HfEcpYU1T"
   },
   "source": [
    "need parameter tuning to get more accurate model"
   ]
  },
  {
   "cell_type": "code",
   "execution_count": 0,
   "metadata": {
    "colab": {},
    "colab_type": "code",
    "id": "Iz5msgHNGmcm"
   },
   "outputs": [],
   "source": []
  },
  {
   "cell_type": "code",
   "execution_count": 0,
   "metadata": {
    "colab": {},
    "colab_type": "code",
    "id": "1bUCS0FSGmgY"
   },
   "outputs": [],
   "source": []
  }
 ],
 "metadata": {
  "accelerator": "GPU",
  "colab": {
   "collapsed_sections": [],
   "name": "pneumonia.ipynb",
   "provenance": [],
   "toc_visible": true
  },
  "kernelspec": {
   "display_name": "Python 3",
   "language": "python",
   "name": "python3"
  },
  "language_info": {
   "codemirror_mode": {
    "name": "ipython",
    "version": 3
   },
   "file_extension": ".py",
   "mimetype": "text/x-python",
   "name": "python",
   "nbconvert_exporter": "python",
   "pygments_lexer": "ipython3",
   "version": "3.7.4"
  }
 },
 "nbformat": 4,
 "nbformat_minor": 1
}
