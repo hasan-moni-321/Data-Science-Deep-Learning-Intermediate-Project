{
 "cells": [
  {
   "cell_type": "code",
   "execution_count": 0,
   "metadata": {
    "colab": {},
    "colab_type": "code",
    "id": "C4HZx7Gndbrh"
   },
   "outputs": [],
   "source": [
    "import numpy as np\n",
    "import pandas as pd\n",
    "import seaborn as sns\n",
    "import matplotlib.pyplot as plt\n",
    "\n",
    "from sklearn.model_selection import train_test_split\n",
    "from sklearn.metrics import classification_report, confusion_matrix\n",
    "\n",
    "from keras.datasets import reuters\n",
    "from collections import Counter\n",
    "\n",
    "from keras.models import Sequential, Model\n",
    "from keras.layers import Dense, Activation, Dropout\n",
    "from keras.utils import to_categorical\n",
    "from keras.optimizers import Adam"
   ]
  },
  {
   "cell_type": "markdown",
   "metadata": {
    "colab_type": "text",
    "id": "vuZ8ZDlA45wo"
   },
   "source": [
    "## loading and dividing dataset"
   ]
  },
  {
   "cell_type": "code",
   "execution_count": 0,
   "metadata": {
    "colab": {},
    "colab_type": "code",
    "id": "efAOqbHj4wfO"
   },
   "outputs": [],
   "source": [
    "(x_train, y_train), (x_test, y_test) = reuters.load_data(path=\"reuters.npz\",\n",
    "                                                         num_words=10000,\n",
    "                                                         skip_top=0,\n",
    "                                                         maxlen=None,\n",
    "                                                         test_split=0.2,\n",
    "                                                         seed=113,\n",
    "                                                         start_char=1,\n",
    "                                                         oov_char=2,\n",
    "                                                         index_from=3)"
   ]
  },
  {
   "cell_type": "code",
   "execution_count": 0,
   "metadata": {
    "colab": {},
    "colab_type": "code",
    "id": "sHrPdB2y4wlI"
   },
   "outputs": [],
   "source": [
    "#to make sure dataset is loaded correctly\n",
    "assert(len(x_train)==len(y_train))    \n",
    "assert(len(x_test)==len(y_test))"
   ]
  },
  {
   "cell_type": "markdown",
   "metadata": {
    "colab_type": "text",
    "id": "5njVAvyt5ONP"
   },
   "source": [
    "## Checking Shape"
   ]
  },
  {
   "cell_type": "code",
   "execution_count": 121,
   "metadata": {
    "colab": {
     "base_uri": "https://localhost:8080/",
     "height": 119
    },
    "colab_type": "code",
    "id": "ZZ6l4vd-4wok",
    "outputId": "24754a66-960a-45ae-c552-690b7f71d360"
   },
   "outputs": [
    {
     "name": "stdout",
     "output_type": "stream",
     "text": [
      "Shape of the x_train: (8982,)\n",
      "Shape of the x_test: (2246,)\n",
      "\n",
      "Number of Training Samples: 8982\n",
      "Number of Test Samples: 2246\n",
      "Number of classes:  46\n"
     ]
    }
   ],
   "source": [
    "print('Shape of the x_train: {}'. format(x_train.shape))\n",
    "print('Shape of the x_test: {}'. format(x_test.shape))\n",
    "\n",
    "print('\\nNumber of Training Samples: {}'.format(len(y_train)))\n",
    "print('Number of Test Samples: {}'.format(len(y_test)))\n",
    "print('Number of classes: ', np.max(y_train)+1)"
   ]
  },
  {
   "cell_type": "markdown",
   "metadata": {
    "colab_type": "text",
    "id": "Wy9sljR15Vkm"
   },
   "source": [
    "## Reading a Text"
   ]
  },
  {
   "cell_type": "code",
   "execution_count": 0,
   "metadata": {
    "colab": {},
    "colab_type": "code",
    "id": "OJKu5RfZ4wrP"
   },
   "outputs": [],
   "source": [
    "word_index = reuters.get_word_index()\n",
    "num_to_word_map = {num:word for word, num in word_index.items()}"
   ]
  },
  {
   "cell_type": "code",
   "execution_count": 123,
   "metadata": {
    "colab": {
     "base_uri": "https://localhost:8080/",
     "height": 54
    },
    "colab_type": "code",
    "id": "-wjpewpk4w4_",
    "outputId": "36573b00-17f7-4258-ee7a-2fa959f5d8fb"
   },
   "outputs": [
    {
     "data": {
      "text/plain": [
       "\"? the u s agriculture department estimated canada's 1986 87 wheat crop at 31 85 mln tonnes vs 31 85 mln tonnes last month it estimated 1985 86 output at 24 25 mln tonnes vs 24 25 mln last month canadian 1986 87 coarse grain production is projected at 27 62 mln tonnes vs 27 62 mln tonnes last month production in 1985 86 is estimated at 24 95 mln tonnes vs 24 95 mln last month canadian wheat exports in 1986 87 are forecast at 19 00 mln tonnes vs 18 00 mln tonnes last month exports in 1985 86 are estimated at 17 71 mln tonnes vs 17 72 mln last month reuter 3\""
      ]
     },
     "execution_count": 123,
     "metadata": {
      "tags": []
     },
     "output_type": "execute_result"
    }
   ],
   "source": [
    "decode_review = ' '.join([num_to_word_map.get(i-3,'?') for i in x_train[5]])\n",
    "decode_review"
   ]
  },
  {
   "cell_type": "code",
   "execution_count": 0,
   "metadata": {
    "colab": {},
    "colab_type": "code",
    "id": "gDYwHS4M4w8e"
   },
   "outputs": [],
   "source": []
  },
  {
   "cell_type": "code",
   "execution_count": 124,
   "metadata": {
    "colab": {
     "base_uri": "https://localhost:8080/",
     "height": 34
    },
    "colab_type": "code",
    "id": "6vAz4RWi4w-x",
    "outputId": "5d420665-7524-4c42-fcd9-9f033e7e6ddd"
   },
   "outputs": [
    {
     "data": {
      "text/plain": [
       "4"
      ]
     },
     "execution_count": 124,
     "metadata": {
      "tags": []
     },
     "output_type": "execute_result"
    }
   ],
   "source": [
    "#label data\n",
    "y_train[5]"
   ]
  },
  {
   "cell_type": "code",
   "execution_count": 125,
   "metadata": {
    "colab": {
     "base_uri": "https://localhost:8080/",
     "height": 34
    },
    "colab_type": "code",
    "id": "zfbfZC4Z4xA9",
    "outputId": "e9345454-8591-426d-9f80-bc8874a95c62"
   },
   "outputs": [
    {
     "data": {
      "text/plain": [
       "45"
      ]
     },
     "execution_count": 125,
     "metadata": {
      "tags": []
     },
     "output_type": "execute_result"
    }
   ],
   "source": [
    "#maximum number in y_train\n",
    "max(y_train)"
   ]
  },
  {
   "cell_type": "code",
   "execution_count": 0,
   "metadata": {
    "colab": {},
    "colab_type": "code",
    "id": "V8nd23764xEG"
   },
   "outputs": [],
   "source": []
  },
  {
   "cell_type": "markdown",
   "metadata": {
    "colab_type": "text",
    "id": "YSmsPRv_5uQ9"
   },
   "source": [
    "## Making dictionary of y_train data"
   ]
  },
  {
   "cell_type": "code",
   "execution_count": 126,
   "metadata": {
    "colab": {
     "base_uri": "https://localhost:8080/",
     "height": 799
    },
    "colab_type": "code",
    "id": "s1YTGXwe4xGZ",
    "outputId": "02380ae5-b2dc-4dec-a767-7a8a622a04ad"
   },
   "outputs": [
    {
     "data": {
      "text/plain": [
       "{0: 55,\n",
       " 1: 432,\n",
       " 2: 74,\n",
       " 3: 3159,\n",
       " 4: 1949,\n",
       " 5: 17,\n",
       " 6: 48,\n",
       " 7: 16,\n",
       " 8: 139,\n",
       " 9: 101,\n",
       " 10: 124,\n",
       " 11: 390,\n",
       " 12: 49,\n",
       " 13: 172,\n",
       " 14: 26,\n",
       " 15: 20,\n",
       " 16: 444,\n",
       " 17: 39,\n",
       " 18: 66,\n",
       " 19: 549,\n",
       " 20: 269,\n",
       " 21: 100,\n",
       " 22: 15,\n",
       " 23: 41,\n",
       " 24: 62,\n",
       " 25: 92,\n",
       " 26: 24,\n",
       " 27: 15,\n",
       " 28: 48,\n",
       " 29: 19,\n",
       " 30: 45,\n",
       " 31: 39,\n",
       " 32: 32,\n",
       " 33: 11,\n",
       " 34: 50,\n",
       " 35: 10,\n",
       " 36: 49,\n",
       " 37: 19,\n",
       " 38: 19,\n",
       " 39: 24,\n",
       " 40: 36,\n",
       " 41: 30,\n",
       " 42: 13,\n",
       " 43: 21,\n",
       " 44: 12,\n",
       " 45: 18}"
      ]
     },
     "execution_count": 126,
     "metadata": {
      "tags": []
     },
     "output_type": "execute_result"
    }
   ],
   "source": [
    "dict(sorted(dict(Counter(y_train)).items()))"
   ]
  },
  {
   "cell_type": "code",
   "execution_count": 0,
   "metadata": {
    "colab": {},
    "colab_type": "code",
    "id": "0MzSXnTQ4xJj"
   },
   "outputs": [],
   "source": []
  },
  {
   "cell_type": "markdown",
   "metadata": {
    "colab_type": "text",
    "id": "mXJO_uQ054re"
   },
   "source": [
    "## Total number of data in graph"
   ]
  },
  {
   "cell_type": "code",
   "execution_count": 127,
   "metadata": {
    "colab": {
     "base_uri": "https://localhost:8080/",
     "height": 282
    },
    "colab_type": "code",
    "id": "3Rqkc-Vp4xMd",
    "outputId": "9f83065e-b623-4ddd-f2df-6ab9ef9e1cfe"
   },
   "outputs": [
    {
     "data": {
      "text/plain": [
       "[<matplotlib.lines.Line2D at 0x7fd3e4264978>]"
      ]
     },
     "execution_count": 127,
     "metadata": {
      "tags": []
     },
     "output_type": "execute_result"
    },
    {
     "data": {
      "image/png": "[encoded data removed]",
      "text/plain": [
       "<Figure size 432x288 with 1 Axes>"
      ]
     },
     "metadata": {
      "needs_background": "light",
      "tags": []
     },
     "output_type": "display_data"
    }
   ],
   "source": [
    "train_d = dict(sorted(dict(Counter(y_train)).items()))\n",
    "test_d = dict(sorted(dict(Counter(y_test)).items()))\n",
    "\n",
    "plt.plot(list(train_d.keys()),  list(train_d.values()), 'g', label='train_label')\n",
    "plt.plot(list(test_d.keys()),  list(test_d.values()), 'b', label='test_label')"
   ]
  },
  {
   "cell_type": "code",
   "execution_count": 128,
   "metadata": {
    "colab": {
     "base_uri": "https://localhost:8080/",
     "height": 34
    },
    "colab_type": "code",
    "id": "wvQSMle34xOy",
    "outputId": "5cda345a-5a50-4d01-cb1b-47dbbc9fd6d8"
   },
   "outputs": [
    {
     "data": {
      "text/plain": [
       "9999"
      ]
     },
     "execution_count": 128,
     "metadata": {
      "tags": []
     },
     "output_type": "execute_result"
    }
   ],
   "source": [
    "#maximum sequence \n",
    "max([max(sequence) for sequence in x_train])"
   ]
  },
  {
   "cell_type": "markdown",
   "metadata": {
    "colab_type": "text",
    "id": "sQwhWVz76Dgs"
   },
   "source": [
    "## Converting to Vector"
   ]
  },
  {
   "cell_type": "code",
   "execution_count": 0,
   "metadata": {
    "colab": {},
    "colab_type": "code",
    "id": "RGPuHp7t4xSt"
   },
   "outputs": [],
   "source": [
    "def converting_to_vector(data, dimension=10000):\n",
    "    result = np.zeros((len(data), dimension))\n",
    "    for i, val in enumerate(data):\n",
    "        result[i, val] = 1\n",
    "        \n",
    "    return result\n",
    "\n",
    "x_train = converting_to_vector(x_train)\n",
    "x_test = converting_to_vector(x_test)\n"
   ]
  },
  {
   "cell_type": "markdown",
   "metadata": {
    "colab_type": "text",
    "id": "tvxzgvQy6MQD"
   },
   "source": [
    "## Data Standardization"
   ]
  },
  {
   "cell_type": "code",
   "execution_count": 0,
   "metadata": {
    "colab": {},
    "colab_type": "code",
    "id": "YO0cwUE44xVZ"
   },
   "outputs": [],
   "source": [
    "x_train = x_train/255\n",
    "#x_test = x_test/255"
   ]
  },
  {
   "cell_type": "markdown",
   "metadata": {
    "colab_type": "text",
    "id": "0yBEQK-56SeS"
   },
   "source": [
    "## Normalizing"
   ]
  },
  {
   "cell_type": "code",
   "execution_count": 0,
   "metadata": {
    "colab": {},
    "colab_type": "code",
    "id": "idVY-j2g4xYg"
   },
   "outputs": [],
   "source": [
    "from sklearn.preprocessing import MinMaxScaler\n",
    "scaler = MinMaxScaler() \n",
    "x_train = scaler.fit_transform(x_train)\n",
    "#x_test = scaler.fit_transform(x_test)"
   ]
  },
  {
   "cell_type": "markdown",
   "metadata": {
    "colab_type": "text",
    "id": "Wkj2jUna6X3K"
   },
   "source": [
    "## One-Hot-Encoder"
   ]
  },
  {
   "cell_type": "code",
   "execution_count": 0,
   "metadata": {
    "colab": {},
    "colab_type": "code",
    "id": "BfsqB6YV4xbC"
   },
   "outputs": [],
   "source": [
    "one_hot_train_labels = to_categorical(y_train)\n",
    "one_hot_test_labels = to_categorical(y_test)"
   ]
  },
  {
   "cell_type": "markdown",
   "metadata": {
    "colab_type": "text",
    "id": "0AQ926Zl6ety"
   },
   "source": [
    "## Dividing Data to Train and Valid"
   ]
  },
  {
   "cell_type": "code",
   "execution_count": 0,
   "metadata": {
    "colab": {},
    "colab_type": "code",
    "id": "V9xighS04xdm"
   },
   "outputs": [],
   "source": [
    "Xtrain,xvalid, Ytrain,yvalid = train_test_split(x_train,one_hot_train_labels, test_size=.2, random_state=0)"
   ]
  },
  {
   "cell_type": "markdown",
   "metadata": {
    "colab_type": "text",
    "id": "1bvi67oQ6ukR"
   },
   "source": [
    "## Model"
   ]
  },
  {
   "cell_type": "code",
   "execution_count": 0,
   "metadata": {
    "colab": {},
    "colab_type": "code",
    "id": "4ryJXn1E4xgw"
   },
   "outputs": [],
   "source": [
    "model = Sequential()\n",
    "model.add(Dense(512, input_shape=(10000,), activation='sigmoid'))\n",
    "model.add(Activation('relu'))\n",
    "model.add(Dropout(0.3))\n",
    "model.add(Dense(256, input_shape=(10000,), activation='sigmoid'))\n",
    "model.add(Activation('relu'))\n",
    "model.add(Dropout(0.3))\n",
    "model.add(Dense(128, input_shape=(10000,), activation='sigmoid'))\n",
    "model.add(Activation('relu'))\n",
    "model.add(Dropout(0.3))\n",
    "model.add(Dense(64, input_shape=(10000,), activation='sigmoid'))\n",
    "model.add(Activation('relu'))\n",
    "model.add(Dropout(0.3))\n",
    "model.add(Dense(46))\n",
    "model.add(Activation('softmax'))\n"
   ]
  },
  {
   "cell_type": "code",
   "execution_count": 135,
   "metadata": {
    "colab": {
     "base_uri": "https://localhost:8080/",
     "height": 629
    },
    "colab_type": "code",
    "id": "1h5i_JuL4x4Z",
    "outputId": "34419f7c-be4d-436a-a28b-83711458138e"
   },
   "outputs": [
    {
     "name": "stdout",
     "output_type": "stream",
     "text": [
      "Model: \"sequential_5\"\n",
      "_________________________________________________________________\n",
      "Layer (type)                 Output Shape              Param #   \n",
      "=================================================================\n",
      "dense_21 (Dense)             (None, 512)               5120512   \n",
      "_________________________________________________________________\n",
      "activation_21 (Activation)   (None, 512)               0         \n",
      "_________________________________________________________________\n",
      "dropout_17 (Dropout)         (None, 512)               0         \n",
      "_________________________________________________________________\n",
      "dense_22 (Dense)             (None, 256)               131328    \n",
      "_________________________________________________________________\n",
      "activation_22 (Activation)   (None, 256)               0         \n",
      "_________________________________________________________________\n",
      "dropout_18 (Dropout)         (None, 256)               0         \n",
      "_________________________________________________________________\n",
      "dense_23 (Dense)             (None, 128)               32896     \n",
      "_________________________________________________________________\n",
      "activation_23 (Activation)   (None, 128)               0         \n",
      "_________________________________________________________________\n",
      "dropout_19 (Dropout)         (None, 128)               0         \n",
      "_________________________________________________________________\n",
      "dense_24 (Dense)             (None, 64)                8256      \n",
      "_________________________________________________________________\n",
      "activation_24 (Activation)   (None, 64)                0         \n",
      "_________________________________________________________________\n",
      "dropout_20 (Dropout)         (None, 64)                0         \n",
      "_________________________________________________________________\n",
      "dense_25 (Dense)             (None, 46)                2990      \n",
      "_________________________________________________________________\n",
      "activation_25 (Activation)   (None, 46)                0         \n",
      "=================================================================\n",
      "Total params: 5,295,982\n",
      "Trainable params: 5,295,982\n",
      "Non-trainable params: 0\n",
      "_________________________________________________________________\n"
     ]
    }
   ],
   "source": [
    "model.summary()"
   ]
  },
  {
   "cell_type": "code",
   "execution_count": 0,
   "metadata": {
    "colab": {},
    "colab_type": "code",
    "id": "NXiXkEio4x61"
   },
   "outputs": [],
   "source": [
    "# compile the model\n",
    "model.compile(optimizer=Adam(lr=0.001, beta_1=0.9, beta_2=0.999, epsilon=1e-08, decay=0.0), \n",
    "              loss='categorical_crossentropy', \n",
    "              metrics=['accuracy'])"
   ]
  },
  {
   "cell_type": "markdown",
   "metadata": {
    "colab_type": "text",
    "id": "hw06UtJK647D"
   },
   "source": [
    "## Training The Model"
   ]
  },
  {
   "cell_type": "code",
   "execution_count": 137,
   "metadata": {
    "colab": {
     "base_uri": "https://localhost:8080/",
     "height": 170
    },
    "colab_type": "code",
    "id": "FVezwXeq4x-Z",
    "outputId": "2ce7baef-b61d-421d-bb8e-61e641c84ba9"
   },
   "outputs": [
    {
     "name": "stdout",
     "output_type": "stream",
     "text": [
      "Train on 7185 samples, validate on 1797 samples\n",
      "Epoch 1/4\n",
      "7185/7185 [==============================] - 2s 223us/step - loss: 2.3781 - accuracy: 0.4019 - val_loss: 1.8195 - val_accuracy: 0.5459\n",
      "Epoch 2/4\n",
      "7185/7185 [==============================] - 1s 200us/step - loss: 1.6879 - accuracy: 0.5762 - val_loss: 1.5678 - val_accuracy: 0.6383\n",
      "Epoch 3/4\n",
      "7185/7185 [==============================] - 1s 197us/step - loss: 1.5088 - accuracy: 0.6291 - val_loss: 1.5033 - val_accuracy: 0.6439\n",
      "Epoch 4/4\n",
      "7185/7185 [==============================] - 1s 202us/step - loss: 1.3851 - accuracy: 0.6601 - val_loss: 1.4633 - val_accuracy: 0.6561\n"
     ]
    }
   ],
   "source": [
    "history = model.fit(Xtrain, Ytrain, epochs=4, verbose=1, validation_data=(xvalid,yvalid))"
   ]
  },
  {
   "cell_type": "markdown",
   "metadata": {
    "colab_type": "text",
    "id": "kRruGNpn7E0X"
   },
   "source": [
    "## Evaluating with test Data"
   ]
  },
  {
   "cell_type": "code",
   "execution_count": 138,
   "metadata": {
    "colab": {
     "base_uri": "https://localhost:8080/",
     "height": 68
    },
    "colab_type": "code",
    "id": "nKvdPDDl4yDJ",
    "outputId": "7435c911-6ec8-4f86-a529-7ef8780f67df"
   },
   "outputs": [
    {
     "name": "stdout",
     "output_type": "stream",
     "text": [
      "2246/2246 [==============================] - 0s 93us/step\n",
      "Test loss : 1.516536662967101\n",
      "Test accuracy : 0.6424754858016968\n"
     ]
    }
   ],
   "source": [
    "#evaluating the test data\n",
    "results = model.evaluate(x_test, one_hot_test_labels, verbose=1)\n",
    "print('Test loss :',results[0])\n",
    "print('Test accuracy :',results[1])"
   ]
  },
  {
   "cell_type": "markdown",
   "metadata": {
    "colab_type": "text",
    "id": "p1bFniQn7VKn"
   },
   "source": [
    "## Accuracy and Loss graph"
   ]
  },
  {
   "cell_type": "code",
   "execution_count": 139,
   "metadata": {
    "colab": {
     "base_uri": "https://localhost:8080/",
     "height": 579
    },
    "colab_type": "code",
    "id": "AmxrySTw4yI5",
    "outputId": "c3d967e2-f727-493f-fb8e-56ec2ae92d38"
   },
   "outputs": [
    {
     "data": {
      "text/plain": [
       "<Figure size 432x288 with 0 Axes>"
      ]
     },
     "execution_count": 139,
     "metadata": {
      "tags": []
     },
     "output_type": "execute_result"
    },
    {
     "data": {
      "image/png": "[encoded data removed]",
      "text/plain": [
       "<Figure size 432x288 with 1 Axes>"
      ]
     },
     "metadata": {
      "needs_background": "light",
      "tags": []
     },
     "output_type": "display_data"
    },
    {
     "data": {
      "image/png": "[encoded data removed]",
      "text/plain": [
       "<Figure size 432x288 with 1 Axes>"
      ]
     },
     "metadata": {
      "needs_background": "light",
      "tags": []
     },
     "output_type": "display_data"
    },
    {
     "data": {
      "text/plain": [
       "<Figure size 432x288 with 0 Axes>"
      ]
     },
     "metadata": {
      "tags": []
     },
     "output_type": "display_data"
    }
   ],
   "source": [
    "accuracy = history.history['accuracy']\n",
    "val_accuracy = history.history['val_accuracy']\n",
    "\n",
    "loss = history.history['loss']\n",
    "val_loss = history.history['val_loss']\n",
    "epochs = range(len(accuracy))\n",
    "\n",
    "\n",
    "plt.plot(epochs, accuracy, 'bo', label='Training accuracy')\n",
    "plt.plot(epochs, val_accuracy, 'g', label='Validation accuracy')\n",
    "plt.title('Training and Validation accuracy')\n",
    "plt.legend()\n",
    "plt.figure()\n",
    "\n",
    "plt.plot(epochs, loss, 'bo', label='Training accuracy')\n",
    "plt.plot(epochs, val_loss, 'g', label='Validation accuracy')\n",
    "plt.title('training and validation loss')\n",
    "plt.legend()\n",
    "plt.figure()"
   ]
  },
  {
   "cell_type": "markdown",
   "metadata": {
    "colab_type": "text",
    "id": "rcV6Kov57lid"
   },
   "source": [
    "## Pedicting with test data"
   ]
  },
  {
   "cell_type": "code",
   "execution_count": 140,
   "metadata": {
    "colab": {
     "base_uri": "https://localhost:8080/",
     "height": 51
    },
    "colab_type": "code",
    "id": "hq0WueZs4yIN",
    "outputId": "40a37dad-b908-4ae2-b20f-e7bda15591a4"
   },
   "outputs": [
    {
     "name": "stdout",
     "output_type": "stream",
     "text": [
      "Shape of predicted classes : (2246,)\n",
      "Shape of y_test : (2246,)\n"
     ]
    }
   ],
   "source": [
    "predicted_classes = model.predict(x_test)\n",
    "\n",
    "predicted_classes = np.argmax(predicted_classes, axis=1)\n",
    "print('Shape of predicted classes :', predicted_classes.shape)\n",
    "print('Shape of y_test :',y_test.shape)"
   ]
  },
  {
   "cell_type": "markdown",
   "metadata": {
    "colab_type": "text",
    "id": "FZHl2qKT7sL8"
   },
   "source": [
    "## Classification Report"
   ]
  },
  {
   "cell_type": "code",
   "execution_count": 141,
   "metadata": {
    "colab": {
     "base_uri": "https://localhost:8080/",
     "height": 972
    },
    "colab_type": "code",
    "id": "kt7qz-8N4yCa",
    "outputId": "c5e9a8d1-84a5-4433-e8b1-37e734eeb1b2"
   },
   "outputs": [
    {
     "name": "stdout",
     "output_type": "stream",
     "text": [
      "              precision    recall  f1-score   support\n",
      "\n",
      "           0       0.00      0.00      0.00        12\n",
      "           1       0.23      0.83      0.37       105\n",
      "           2       0.00      0.00      0.00        20\n",
      "           3       0.92      0.95      0.94       813\n",
      "           4       0.90      0.84      0.87       474\n",
      "           5       0.00      0.00      0.00         5\n",
      "           6       0.00      0.00      0.00        14\n",
      "           7       0.00      0.00      0.00         3\n",
      "           8       0.00      0.00      0.00        38\n",
      "           9       0.00      0.00      0.00        25\n",
      "          10       0.00      0.00      0.00        30\n",
      "          11       0.00      0.00      0.00        83\n",
      "          12       0.00      0.00      0.00        13\n",
      "          13       0.00      0.00      0.00        37\n",
      "          14       0.00      0.00      0.00         2\n",
      "          15       0.00      0.00      0.00         9\n",
      "          16       0.21      0.82      0.34        99\n",
      "          17       0.00      0.00      0.00        12\n",
      "          18       0.00      0.00      0.00        20\n",
      "          19       0.47      0.77      0.58       133\n",
      "          20       0.00      0.00      0.00        70\n",
      "          21       0.00      0.00      0.00        27\n",
      "          22       0.00      0.00      0.00         7\n",
      "          23       0.00      0.00      0.00        12\n",
      "          24       0.00      0.00      0.00        19\n",
      "          25       0.00      0.00      0.00        31\n",
      "          26       0.00      0.00      0.00         8\n",
      "          27       0.00      0.00      0.00         4\n",
      "          28       0.00      0.00      0.00        10\n",
      "          29       0.00      0.00      0.00         4\n",
      "          30       0.00      0.00      0.00        12\n",
      "          31       0.00      0.00      0.00        13\n",
      "          32       0.00      0.00      0.00        10\n",
      "          33       0.00      0.00      0.00         5\n",
      "          34       0.00      0.00      0.00         7\n",
      "          35       0.00      0.00      0.00         6\n",
      "          36       0.00      0.00      0.00        11\n",
      "          37       0.00      0.00      0.00         2\n",
      "          38       0.00      0.00      0.00         3\n",
      "          39       0.00      0.00      0.00         5\n",
      "          40       0.00      0.00      0.00        10\n",
      "          41       0.00      0.00      0.00         8\n",
      "          42       0.00      0.00      0.00         3\n",
      "          43       0.00      0.00      0.00         6\n",
      "          44       0.00      0.00      0.00         5\n",
      "          45       0.00      0.00      0.00         1\n",
      "\n",
      "    accuracy                           0.64      2246\n",
      "   macro avg       0.06      0.09      0.07      2246\n",
      "weighted avg       0.57      0.64      0.59      2246\n",
      "\n"
     ]
    },
    {
     "name": "stderr",
     "output_type": "stream",
     "text": [
      "/usr/local/lib/python3.6/dist-packages/sklearn/metrics/_classification.py:1272: UndefinedMetricWarning: Precision and F-score are ill-defined and being set to 0.0 in labels with no predicted samples. Use `zero_division` parameter to control this behavior.\n",
      "  _warn_prf(average, modifier, msg_start, len(result))\n"
     ]
    }
   ],
   "source": [
    "print(classification_report(y_test, predicted_classes))"
   ]
  },
  {
   "cell_type": "markdown",
   "metadata": {
    "colab_type": "text",
    "id": "-f1uGl7c71kU"
   },
   "source": [
    "## Confusion Matrix"
   ]
  },
  {
   "cell_type": "code",
   "execution_count": 142,
   "metadata": {
    "colab": {
     "base_uri": "https://localhost:8080/",
     "height": 1000
    },
    "colab_type": "code",
    "id": "m6btGelI4xRz",
    "outputId": "996417d9-1f9c-4768-d803-67f49e6ad127"
   },
   "outputs": [
    {
     "data": {
      "text/plain": [
       "Text(173.4, 0.5, 'Predicted label')"
      ]
     },
     "execution_count": 142,
     "metadata": {
      "tags": []
     },
     "output_type": "execute_result"
    },
    {
     "data": {
      "image/png": "[encoded data removed]",
      "text/plain": [
       "<Figure size 1440x1440 with 1 Axes>"
      ]
     },
     "metadata": {
      "needs_background": "light",
      "tags": []
     },
     "output_type": "display_data"
    }
   ],
   "source": [
    "plt.figure(figsize=(20,20))\n",
    "sns.heatmap(confusion_matrix(y_test, predicted_classes), square=True, annot=True, fmt='d', cbar=False)\n",
    "plt.xlabel('True label')\n",
    "plt.ylabel('Predicted label')"
   ]
  },
  {
   "cell_type": "code",
   "execution_count": 0,
   "metadata": {
    "colab": {},
    "colab_type": "code",
    "id": "rXjCGuj47yFT"
   },
   "outputs": [],
   "source": []
  },
  {
   "cell_type": "code",
   "execution_count": 0,
   "metadata": {
    "colab": {},
    "colab_type": "code",
    "id": "opEUYHJk7yKR"
   },
   "outputs": [],
   "source": []
  }
 ],
 "metadata": {
  "accelerator": "GPU",
  "colab": {
   "collapsed_sections": [],
   "name": "Welcome To Colaboratory",
   "provenance": []
  },
  "kernelspec": {
   "display_name": "Python 3",
   "language": "python",
   "name": "python3"
  },
  "language_info": {
   "codemirror_mode": {
    "name": "ipython",
    "version": 3
   },
   "file_extension": ".py",
   "mimetype": "text/x-python",
   "name": "python",
   "nbconvert_exporter": "python",
   "pygments_lexer": "ipython3",
   "version": "3.7.5"
  }
 },
 "nbformat": 4,
 "nbformat_minor": 1
}
